{
 "cells": [
  {
   "cell_type": "code",
   "execution_count": 3,
   "metadata": {},
   "outputs": [
    {
     "name": "stderr",
     "output_type": "stream",
     "text": [
      "c:\\Users\\esteb\\anaconda3\\envs\\Iteso\\lib\\site-packages\\tqdm\\auto.py:21: TqdmWarning: IProgress not found. Please update jupyter and ipywidgets. See https://ipywidgets.readthedocs.io/en/stable/user_install.html\n",
      "  from .autonotebook import tqdm as notebook_tqdm\n"
     ]
    }
   ],
   "source": [
    "import pandas as pd \n",
    "import sweetviz as sv"
   ]
  },
  {
   "cell_type": "code",
   "execution_count": 7,
   "metadata": {},
   "outputs": [],
   "source": [
    "train_path = \"../data/raw/train.csv\"\n",
    "test_path = \"../data/raw/test.csv\"\n",
    "df_train = pd.read_csv(train_path, encoding= \"ISO-8859-1\")\n",
    "df_test = pd.read_csv(test_path, encoding= \"ISO-8859-1\")"
   ]
  },
  {
   "cell_type": "code",
   "execution_count": 8,
   "metadata": {},
   "outputs": [
    {
     "name": "stdout",
     "output_type": "stream",
     "text": [
      "<class 'pandas.core.frame.DataFrame'>\n",
      "RangeIndex: 5340 entries, 0 to 5339\n",
      "Data columns (total 15 columns):\n",
      " #   Column                          Non-Null Count  Dtype \n",
      "---  ------                          --------------  ----- \n",
      " 0   CLAVE DE INMUEBLE               5340 non-null   object\n",
      " 1   TECNOLOGIA INSTALADA            5339 non-null   object\n",
      " 2   ANCHO DE BANDA CONTRATADO 2014  5339 non-null   object\n",
      " 3   INSTITUCION                     5340 non-null   object\n",
      " 4   NOMBRE DEL CENTRO               5335 non-null   object\n",
      " 5   TURNO/HORARIO                   5305 non-null   object\n",
      " 6   NIVEL                           5304 non-null   object\n",
      " 7   REGION                          5331 non-null   object\n",
      " 8   MUNICIPIO                       5338 non-null   object\n",
      " 9   LOCALIDAD                       5328 non-null   object\n",
      " 10  DOMICILIO                       5339 non-null   object\n",
      " 11  CODIGO POSTAL                   5315 non-null   object\n",
      " 12  LONGITUD                        5302 non-null   object\n",
      " 13  LATITUD                         5302 non-null   object\n",
      " 14  ESTATUS                         5340 non-null   object\n",
      "dtypes: object(15)\n",
      "memory usage: 625.9+ KB\n"
     ]
    }
   ],
   "source": [
    "df_train.info()"
   ]
  },
  {
   "cell_type": "code",
   "execution_count": 9,
   "metadata": {},
   "outputs": [
    {
     "data": {
      "text/plain": [
       "CLAVE DE INMUEBLE                  0\n",
       "TECNOLOGIA INSTALADA               1\n",
       "ANCHO DE BANDA CONTRATADO 2014     1\n",
       "INSTITUCION                        0\n",
       "NOMBRE DEL CENTRO                  5\n",
       "TURNO/HORARIO                     35\n",
       "NIVEL                             36\n",
       "REGION                             9\n",
       "MUNICIPIO                          2\n",
       "LOCALIDAD                         12\n",
       "DOMICILIO                          1\n",
       "CODIGO POSTAL                     25\n",
       "LONGITUD                          38\n",
       "LATITUD                           38\n",
       "ESTATUS                            0\n",
       "dtype: int64"
      ]
     },
     "execution_count": 9,
     "metadata": {},
     "output_type": "execute_result"
    }
   ],
   "source": [
    "df_train.isna().sum()"
   ]
  },
  {
   "cell_type": "code",
   "execution_count": 18,
   "metadata": {},
   "outputs": [
    {
     "name": "stderr",
     "output_type": "stream",
     "text": [
      "Feature: ANCHO DE BANDA CONTRATADO 2014      |█▉        | [ 19%]   03:49 -> (16:33 left)\n",
      "Done! Use 'show' commands to display/save.   |██████████| [100%]   00:01 -> (00:00 left)\n"
     ]
    },
    {
     "name": "stdout",
     "output_type": "stream",
     "text": [
      "Report SWEETVIZ_REPORT.html was generated! NOTEBOOK/COLAB USERS: the web browser MAY not pop up, regardless, the report IS saved in your notebook/colab files.\n"
     ]
    }
   ],
   "source": [
    "proyect = sv.analyze(df_train)\n",
    "# proyect.show_html()"
   ]
  },
  {
   "cell_type": "code",
   "execution_count": 21,
   "metadata": {},
   "outputs": [],
   "source": [
    "df[\"ANCHO DE BANDA CONTRATADO 2014\"].fillna(df[\"ANCHO DE BANDA CONTRATADO 2014\"].mode, inplace= True)"
   ]
  }
 ],
 "metadata": {
  "kernelspec": {
   "display_name": "DataClass",
   "language": "python",
   "name": "python3"
  },
  "language_info": {
   "codemirror_mode": {
    "name": "ipython",
    "version": 3
   },
   "file_extension": ".py",
   "mimetype": "text/x-python",
   "name": "python",
   "nbconvert_exporter": "python",
   "pygments_lexer": "ipython3",
   "version": "3.10.13"
  }
 },
 "nbformat": 4,
 "nbformat_minor": 2
}
