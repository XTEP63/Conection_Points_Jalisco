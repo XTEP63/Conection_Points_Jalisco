{
 "cells": [
  {
   "cell_type": "code",
   "execution_count": 13,
   "metadata": {},
   "outputs": [],
   "source": [
    "import pandas as pd \n",
    "import sweetviz as sv"
   ]
  },
  {
   "cell_type": "code",
   "execution_count": 14,
   "metadata": {},
   "outputs": [],
   "source": [
    "path = \"../data/raw/ejalisco2016.csv\"\n",
    "df = pd.read_csv(path, encoding= \"ISO-8859-1\")"
   ]
  },
  {
   "cell_type": "code",
   "execution_count": 15,
   "metadata": {},
   "outputs": [
    {
     "name": "stdout",
     "output_type": "stream",
     "text": [
      "<class 'pandas.core.frame.DataFrame'>\n",
      "RangeIndex: 6675 entries, 0 to 6674\n",
      "Data columns (total 15 columns):\n",
      " #   Column                          Non-Null Count  Dtype \n",
      "---  ------                          --------------  ----- \n",
      " 0   CLAVE DE INMUEBLE               6675 non-null   object\n",
      " 1   TECNOLOGIA INSTALADA            6673 non-null   object\n",
      " 2   ANCHO DE BANDA CONTRATADO 2014  6674 non-null   object\n",
      " 3   INSTITUCION                     6675 non-null   object\n",
      " 4   NOMBRE DEL CENTRO               6670 non-null   object\n",
      " 5   TURNO/HORARIO                   6633 non-null   object\n",
      " 6   NIVEL                           6631 non-null   object\n",
      " 7   REGION                          6662 non-null   object\n",
      " 8   MUNICIPIO                       6673 non-null   object\n",
      " 9   LOCALIDAD                       6661 non-null   object\n",
      " 10  DOMICILIO                       6674 non-null   object\n",
      " 11  CODIGO POSTAL                   6646 non-null   object\n",
      " 12  LONGITUD                        6623 non-null   object\n",
      " 13  LATITUD                         6623 non-null   object\n",
      " 14  ESTATUS                         6675 non-null   object\n",
      "dtypes: object(15)\n",
      "memory usage: 782.4+ KB\n"
     ]
    }
   ],
   "source": [
    "df.info()"
   ]
  },
  {
   "cell_type": "code",
   "execution_count": 16,
   "metadata": {},
   "outputs": [
    {
     "data": {
      "text/html": [
       "<div>\n",
       "<style scoped>\n",
       "    .dataframe tbody tr th:only-of-type {\n",
       "        vertical-align: middle;\n",
       "    }\n",
       "\n",
       "    .dataframe tbody tr th {\n",
       "        vertical-align: top;\n",
       "    }\n",
       "\n",
       "    .dataframe thead th {\n",
       "        text-align: right;\n",
       "    }\n",
       "</style>\n",
       "<table border=\"1\" class=\"dataframe\">\n",
       "  <thead>\n",
       "    <tr style=\"text-align: right;\">\n",
       "      <th></th>\n",
       "      <th>CLAVE DE INMUEBLE</th>\n",
       "      <th>TECNOLOGIA INSTALADA</th>\n",
       "      <th>ANCHO DE BANDA CONTRATADO 2014</th>\n",
       "      <th>INSTITUCION</th>\n",
       "      <th>NOMBRE DEL CENTRO</th>\n",
       "      <th>TURNO/HORARIO</th>\n",
       "      <th>NIVEL</th>\n",
       "      <th>REGION</th>\n",
       "      <th>MUNICIPIO</th>\n",
       "      <th>LOCALIDAD</th>\n",
       "      <th>DOMICILIO</th>\n",
       "      <th>CODIGO POSTAL</th>\n",
       "      <th>LONGITUD</th>\n",
       "      <th>LATITUD</th>\n",
       "      <th>ESTATUS</th>\n",
       "    </tr>\n",
       "  </thead>\n",
       "  <tbody>\n",
       "    <tr>\n",
       "      <th>count</th>\n",
       "      <td>6675</td>\n",
       "      <td>6673</td>\n",
       "      <td>6674</td>\n",
       "      <td>6675</td>\n",
       "      <td>6670</td>\n",
       "      <td>6633</td>\n",
       "      <td>6631</td>\n",
       "      <td>6662</td>\n",
       "      <td>6673</td>\n",
       "      <td>6661</td>\n",
       "      <td>6674</td>\n",
       "      <td>6646</td>\n",
       "      <td>6623</td>\n",
       "      <td>6623</td>\n",
       "      <td>6675</td>\n",
       "    </tr>\n",
       "    <tr>\n",
       "      <th>unique</th>\n",
       "      <td>5675</td>\n",
       "      <td>5</td>\n",
       "      <td>7</td>\n",
       "      <td>26</td>\n",
       "      <td>3070</td>\n",
       "      <td>82</td>\n",
       "      <td>111</td>\n",
       "      <td>15</td>\n",
       "      <td>134</td>\n",
       "      <td>1043</td>\n",
       "      <td>4749</td>\n",
       "      <td>717</td>\n",
       "      <td>4815</td>\n",
       "      <td>4729</td>\n",
       "      <td>3</td>\n",
       "    </tr>\n",
       "    <tr>\n",
       "      <th>top</th>\n",
       "      <td>1408213B</td>\n",
       "      <td>iMAX</td>\n",
       "      <td>2 MB</td>\n",
       "      <td>SEJ</td>\n",
       "      <td>N/D</td>\n",
       "      <td>MATUTINO</td>\n",
       "      <td>PRIMARIA</td>\n",
       "      <td>CENTRO</td>\n",
       "      <td>GUADALAJARA</td>\n",
       "      <td>GUADALAJARA</td>\n",
       "      <td>CONOCIDO</td>\n",
       "      <td>N/D</td>\n",
       "      <td>-103.3919444</td>\n",
       "      <td>20.6763889</td>\n",
       "      <td>SUSPENDIDO</td>\n",
       "    </tr>\n",
       "    <tr>\n",
       "      <th>freq</th>\n",
       "      <td>19</td>\n",
       "      <td>3900</td>\n",
       "      <td>5458</td>\n",
       "      <td>4991</td>\n",
       "      <td>305</td>\n",
       "      <td>3650</td>\n",
       "      <td>2424</td>\n",
       "      <td>2748</td>\n",
       "      <td>794</td>\n",
       "      <td>733</td>\n",
       "      <td>470</td>\n",
       "      <td>613</td>\n",
       "      <td>30</td>\n",
       "      <td>31</td>\n",
       "      <td>2774</td>\n",
       "    </tr>\n",
       "  </tbody>\n",
       "</table>\n",
       "</div>"
      ],
      "text/plain": [
       "       CLAVE DE INMUEBLE TECNOLOGIA INSTALADA ANCHO DE BANDA CONTRATADO 2014  \\\n",
       "count               6675                 6673                           6674   \n",
       "unique              5675                    5                              7   \n",
       "top             1408213B                 iMAX                           2 MB   \n",
       "freq                  19                 3900                           5458   \n",
       "\n",
       "       INSTITUCION NOMBRE DEL CENTRO TURNO/HORARIO     NIVEL  REGION  \\\n",
       "count         6675              6670          6633      6631    6662   \n",
       "unique          26              3070            82       111      15   \n",
       "top            SEJ               N/D      MATUTINO  PRIMARIA  CENTRO   \n",
       "freq          4991               305          3650      2424    2748   \n",
       "\n",
       "          MUNICIPIO    LOCALIDAD DOMICILIO CODIGO POSTAL      LONGITUD  \\\n",
       "count          6673         6661      6674          6646          6623   \n",
       "unique          134         1043      4749           717          4815   \n",
       "top     GUADALAJARA  GUADALAJARA  CONOCIDO           N/D  -103.3919444   \n",
       "freq            794          733       470           613            30   \n",
       "\n",
       "           LATITUD     ESTATUS  \n",
       "count         6623        6675  \n",
       "unique        4729           3  \n",
       "top     20.6763889  SUSPENDIDO  \n",
       "freq            31        2774  "
      ]
     },
     "execution_count": 16,
     "metadata": {},
     "output_type": "execute_result"
    }
   ],
   "source": [
    "df.describe()"
   ]
  },
  {
   "cell_type": "code",
   "execution_count": 17,
   "metadata": {},
   "outputs": [
    {
     "data": {
      "text/plain": [
       "CLAVE DE INMUEBLE                  0\n",
       "TECNOLOGIA INSTALADA               2\n",
       "ANCHO DE BANDA CONTRATADO 2014     1\n",
       "INSTITUCION                        0\n",
       "NOMBRE DEL CENTRO                  5\n",
       "TURNO/HORARIO                     42\n",
       "NIVEL                             44\n",
       "REGION                            13\n",
       "MUNICIPIO                          2\n",
       "LOCALIDAD                         14\n",
       "DOMICILIO                          1\n",
       "CODIGO POSTAL                     29\n",
       "LONGITUD                          52\n",
       "LATITUD                           52\n",
       "ESTATUS                            0\n",
       "dtype: int64"
      ]
     },
     "execution_count": 17,
     "metadata": {},
     "output_type": "execute_result"
    }
   ],
   "source": [
    "df.isna().sum()"
   ]
  },
  {
   "cell_type": "code",
   "execution_count": 18,
   "metadata": {},
   "outputs": [
    {
     "name": "stderr",
     "output_type": "stream",
     "text": [
      "Feature: ANCHO DE BANDA CONTRATADO 2014      |█▉        | [ 19%]   03:49 -> (16:33 left)\n",
      "Done! Use 'show' commands to display/save.   |██████████| [100%]   00:01 -> (00:00 left)\n"
     ]
    },
    {
     "name": "stdout",
     "output_type": "stream",
     "text": [
      "Report SWEETVIZ_REPORT.html was generated! NOTEBOOK/COLAB USERS: the web browser MAY not pop up, regardless, the report IS saved in your notebook/colab files.\n"
     ]
    }
   ],
   "source": [
    "proyect = sv.analyze(df)\n",
    "proyect.show_html()"
   ]
  },
  {
   "cell_type": "code",
   "execution_count": 19,
   "metadata": {},
   "outputs": [
    {
     "data": {
      "text/plain": [
       "ESTATUS\n",
       "SUSPENDIDO      2774\n",
       "SIN SERVICIO    2211\n",
       "ACTIVO          1690\n",
       "Name: count, dtype: int64"
      ]
     },
     "execution_count": 19,
     "metadata": {},
     "output_type": "execute_result"
    }
   ],
   "source": [
    "df[\"ESTATUS\"].value_counts()"
   ]
  },
  {
   "cell_type": "code",
   "execution_count": 20,
   "metadata": {},
   "outputs": [
    {
     "data": {
      "text/html": [
       "<div>\n",
       "<style scoped>\n",
       "    .dataframe tbody tr th:only-of-type {\n",
       "        vertical-align: middle;\n",
       "    }\n",
       "\n",
       "    .dataframe tbody tr th {\n",
       "        vertical-align: top;\n",
       "    }\n",
       "\n",
       "    .dataframe thead th {\n",
       "        text-align: right;\n",
       "    }\n",
       "</style>\n",
       "<table border=\"1\" class=\"dataframe\">\n",
       "  <thead>\n",
       "    <tr style=\"text-align: right;\">\n",
       "      <th></th>\n",
       "      <th>CLAVE DE INMUEBLE</th>\n",
       "      <th>TECNOLOGIA INSTALADA</th>\n",
       "      <th>ANCHO DE BANDA CONTRATADO 2014</th>\n",
       "      <th>INSTITUCION</th>\n",
       "      <th>NOMBRE DEL CENTRO</th>\n",
       "      <th>TURNO/HORARIO</th>\n",
       "      <th>NIVEL</th>\n",
       "      <th>REGION</th>\n",
       "      <th>MUNICIPIO</th>\n",
       "      <th>LOCALIDAD</th>\n",
       "      <th>DOMICILIO</th>\n",
       "      <th>CODIGO POSTAL</th>\n",
       "      <th>LONGITUD</th>\n",
       "      <th>LATITUD</th>\n",
       "      <th>ESTATUS</th>\n",
       "    </tr>\n",
       "  </thead>\n",
       "  <tbody>\n",
       "    <tr>\n",
       "      <th>0</th>\n",
       "      <td>14000098</td>\n",
       "      <td>iMAX</td>\n",
       "      <td>2 MB</td>\n",
       "      <td>SEJ</td>\n",
       "      <td>NOMBRE EN TRAMITE</td>\n",
       "      <td>MATUTINO</td>\n",
       "      <td>PRIMARIA</td>\n",
       "      <td>CENTRO</td>\n",
       "      <td>TLAJOMULCO DE ZUÑIGA</td>\n",
       "      <td>TLAJOMULCO DE ZUÑIGA</td>\n",
       "      <td>COL. DEL ROBLE ZONA 198 SECTOR 26</td>\n",
       "      <td>45640</td>\n",
       "      <td>103¡23'58.20</td>\n",
       "      <td>20¡30'18.00</td>\n",
       "      <td>ACTIVO</td>\n",
       "    </tr>\n",
       "    <tr>\n",
       "      <th>1</th>\n",
       "      <td>105SP</td>\n",
       "      <td>iMAX</td>\n",
       "      <td>2 MB</td>\n",
       "      <td>GOB</td>\n",
       "      <td>NaN</td>\n",
       "      <td>N/D</td>\n",
       "      <td>NaN</td>\n",
       "      <td>SUR</td>\n",
       "      <td>ZAPOTLAN EL GRANDE</td>\n",
       "      <td>NaN</td>\n",
       "      <td>CONOCIDO</td>\n",
       "      <td>NaN</td>\n",
       "      <td>103 27 51.4</td>\n",
       "      <td>19 42 9.7</td>\n",
       "      <td>ACTIVO</td>\n",
       "    </tr>\n",
       "    <tr>\n",
       "      <th>2</th>\n",
       "      <td>108SP</td>\n",
       "      <td>iMAX</td>\n",
       "      <td>2 MB</td>\n",
       "      <td>GOB</td>\n",
       "      <td>N/D</td>\n",
       "      <td>N/D</td>\n",
       "      <td>N/D</td>\n",
       "      <td>COSTA ORTE</td>\n",
       "      <td>PUERTO VALLARTA</td>\n",
       "      <td>N/D</td>\n",
       "      <td>CONOCIDO</td>\n",
       "      <td>N/D</td>\n",
       "      <td>105 13 32.5</td>\n",
       "      <td>20 38 53.7</td>\n",
       "      <td>ACTIVO</td>\n",
       "    </tr>\n",
       "    <tr>\n",
       "      <th>3</th>\n",
       "      <td>021IEE</td>\n",
       "      <td>iMAX</td>\n",
       "      <td>2 MB</td>\n",
       "      <td>BIBLIOTECAS</td>\n",
       "      <td>N/D</td>\n",
       "      <td>N/D</td>\n",
       "      <td>N/D</td>\n",
       "      <td>CIENEGA</td>\n",
       "      <td>OCOTLAN</td>\n",
       "      <td>N/D</td>\n",
       "      <td>N/D</td>\n",
       "      <td>N/D</td>\n",
       "      <td>102 46 30.30</td>\n",
       "      <td>20 21 46.8</td>\n",
       "      <td>ACTIVO</td>\n",
       "    </tr>\n",
       "    <tr>\n",
       "      <th>4</th>\n",
       "      <td>057IEE</td>\n",
       "      <td>iMAX</td>\n",
       "      <td>2 MB</td>\n",
       "      <td>IEEA</td>\n",
       "      <td>N/D</td>\n",
       "      <td>N/D</td>\n",
       "      <td>N/D</td>\n",
       "      <td>COSTA SUR</td>\n",
       "      <td>VILLA PURIFICACIîN</td>\n",
       "      <td>N/D</td>\n",
       "      <td>ABASOLO # 174  COL. CENTRO C.P. 48800</td>\n",
       "      <td>48800</td>\n",
       "      <td>-104.6028806</td>\n",
       "      <td>19.7196083</td>\n",
       "      <td>ACTIVO</td>\n",
       "    </tr>\n",
       "  </tbody>\n",
       "</table>\n",
       "</div>"
      ],
      "text/plain": [
       "  CLAVE DE INMUEBLE TECNOLOGIA INSTALADA ANCHO DE BANDA CONTRATADO 2014  \\\n",
       "0          14000098                 iMAX                           2 MB   \n",
       "1             105SP                 iMAX                           2 MB   \n",
       "2             108SP                 iMAX                           2 MB   \n",
       "3            021IEE                 iMAX                           2 MB   \n",
       "4            057IEE                 iMAX                           2 MB   \n",
       "\n",
       "   INSTITUCION  NOMBRE DEL CENTRO TURNO/HORARIO     NIVEL      REGION  \\\n",
       "0          SEJ  NOMBRE EN TRAMITE      MATUTINO  PRIMARIA      CENTRO   \n",
       "1          GOB                NaN           N/D       NaN         SUR   \n",
       "2          GOB                N/D           N/D       N/D  COSTA ORTE   \n",
       "3  BIBLIOTECAS                N/D           N/D       N/D     CIENEGA   \n",
       "4         IEEA                N/D           N/D       N/D   COSTA SUR   \n",
       "\n",
       "              MUNICIPIO             LOCALIDAD  \\\n",
       "0  TLAJOMULCO DE ZUÑIGA  TLAJOMULCO DE ZUÑIGA   \n",
       "1    ZAPOTLAN EL GRANDE                   NaN   \n",
       "2       PUERTO VALLARTA                   N/D   \n",
       "3               OCOTLAN                   N/D   \n",
       "4    VILLA PURIFICACIîN                   N/D   \n",
       "\n",
       "                                DOMICILIO CODIGO POSTAL        LONGITUD  \\\n",
       "0       COL. DEL ROBLE ZONA 198 SECTOR 26         45640    103¡23'58.20   \n",
       "1                                CONOCIDO           NaN   103 27 51.4     \n",
       "2                                CONOCIDO           N/D   105 13 32.5     \n",
       "3                                     N/D           N/D  102 46 30.30     \n",
       "4  ABASOLO # 174  COL. CENTRO C.P. 48800          48800    -104.6028806   \n",
       "\n",
       "         LATITUD ESTATUS  \n",
       "0   20¡30'18.00   ACTIVO  \n",
       "1     19 42 9.7   ACTIVO  \n",
       "2    20 38 53.7   ACTIVO  \n",
       "3    20 21 46.8   ACTIVO  \n",
       "4     19.7196083  ACTIVO  "
      ]
     },
     "execution_count": 20,
     "metadata": {},
     "output_type": "execute_result"
    }
   ],
   "source": [
    "df.head()"
   ]
  },
  {
   "cell_type": "code",
   "execution_count": 21,
   "metadata": {},
   "outputs": [],
   "source": [
    "df[\"ANCHO DE BANDA CONTRATADO 2014\"].fillna(df[\"ANCHO DE BANDA CONTRATADO 2014\"].mode, inplace= True)"
   ]
  },
  {
   "cell_type": "code",
   "execution_count": 22,
   "metadata": {},
   "outputs": [
    {
     "ename": "AttributeError",
     "evalue": "'function' object has no attribute 'split'",
     "output_type": "error",
     "traceback": [
      "\u001b[1;31m---------------------------------------------------------------------------\u001b[0m",
      "\u001b[1;31mAttributeError\u001b[0m                            Traceback (most recent call last)",
      "Cell \u001b[1;32mIn[22], line 1\u001b[0m\n\u001b[1;32m----> 1\u001b[0m df[\u001b[38;5;124m\"\u001b[39m\u001b[38;5;124mANCHO DE BANDA CONTRATADO 2014\u001b[39m\u001b[38;5;124m\"\u001b[39m] \u001b[38;5;241m=\u001b[39m \u001b[43mdf\u001b[49m\u001b[43m[\u001b[49m\u001b[38;5;124;43m\"\u001b[39;49m\u001b[38;5;124;43mANCHO DE BANDA CONTRATADO 2014\u001b[39;49m\u001b[38;5;124;43m\"\u001b[39;49m\u001b[43m]\u001b[49m\u001b[38;5;241;43m.\u001b[39;49m\u001b[43mmap\u001b[49m\u001b[43m(\u001b[49m\u001b[38;5;28;43;01mlambda\u001b[39;49;00m\u001b[43m \u001b[49m\u001b[43mx\u001b[49m\u001b[43m \u001b[49m\u001b[43m:\u001b[49m\u001b[43m \u001b[49m\u001b[43mx\u001b[49m\u001b[38;5;241;43m.\u001b[39;49m\u001b[43msplit\u001b[49m\u001b[43m(\u001b[49m\u001b[38;5;124;43m\"\u001b[39;49m\u001b[38;5;124;43m \u001b[39;49m\u001b[38;5;124;43m\"\u001b[39;49m\u001b[43m)\u001b[49m\u001b[43m[\u001b[49m\u001b[38;5;241;43m0\u001b[39;49m\u001b[43m]\u001b[49m\u001b[43m)\u001b[49m\n\u001b[0;32m      2\u001b[0m df[\u001b[38;5;124m\"\u001b[39m\u001b[38;5;124mANCHO DE BANDA CONTRATADO 2014\u001b[39m\u001b[38;5;124m\"\u001b[39m]\n",
      "File \u001b[1;32mc:\\Users\\esteb\\anaconda3\\anaconda\\envs\\My_proyect\\lib\\site-packages\\pandas\\core\\series.py:4691\u001b[0m, in \u001b[0;36mSeries.map\u001b[1;34m(self, arg, na_action)\u001b[0m\n\u001b[0;32m   4611\u001b[0m \u001b[38;5;28;01mdef\u001b[39;00m \u001b[38;5;21mmap\u001b[39m(\n\u001b[0;32m   4612\u001b[0m     \u001b[38;5;28mself\u001b[39m,\n\u001b[0;32m   4613\u001b[0m     arg: Callable \u001b[38;5;241m|\u001b[39m Mapping \u001b[38;5;241m|\u001b[39m Series,\n\u001b[0;32m   4614\u001b[0m     na_action: Literal[\u001b[38;5;124m\"\u001b[39m\u001b[38;5;124mignore\u001b[39m\u001b[38;5;124m\"\u001b[39m] \u001b[38;5;241m|\u001b[39m \u001b[38;5;28;01mNone\u001b[39;00m \u001b[38;5;241m=\u001b[39m \u001b[38;5;28;01mNone\u001b[39;00m,\n\u001b[0;32m   4615\u001b[0m ) \u001b[38;5;241m-\u001b[39m\u001b[38;5;241m>\u001b[39m Series:\n\u001b[0;32m   4616\u001b[0m \u001b[38;5;250m    \u001b[39m\u001b[38;5;124;03m\"\"\"\u001b[39;00m\n\u001b[0;32m   4617\u001b[0m \u001b[38;5;124;03m    Map values of Series according to an input mapping or function.\u001b[39;00m\n\u001b[0;32m   4618\u001b[0m \n\u001b[1;32m   (...)\u001b[0m\n\u001b[0;32m   4689\u001b[0m \u001b[38;5;124;03m    dtype: object\u001b[39;00m\n\u001b[0;32m   4690\u001b[0m \u001b[38;5;124;03m    \"\"\"\u001b[39;00m\n\u001b[1;32m-> 4691\u001b[0m     new_values \u001b[38;5;241m=\u001b[39m \u001b[38;5;28;43mself\u001b[39;49m\u001b[38;5;241;43m.\u001b[39;49m\u001b[43m_map_values\u001b[49m\u001b[43m(\u001b[49m\u001b[43marg\u001b[49m\u001b[43m,\u001b[49m\u001b[43m \u001b[49m\u001b[43mna_action\u001b[49m\u001b[38;5;241;43m=\u001b[39;49m\u001b[43mna_action\u001b[49m\u001b[43m)\u001b[49m\n\u001b[0;32m   4692\u001b[0m     \u001b[38;5;28;01mreturn\u001b[39;00m \u001b[38;5;28mself\u001b[39m\u001b[38;5;241m.\u001b[39m_constructor(new_values, index\u001b[38;5;241m=\u001b[39m\u001b[38;5;28mself\u001b[39m\u001b[38;5;241m.\u001b[39mindex, copy\u001b[38;5;241m=\u001b[39m\u001b[38;5;28;01mFalse\u001b[39;00m)\u001b[38;5;241m.\u001b[39m__finalize__(\n\u001b[0;32m   4693\u001b[0m         \u001b[38;5;28mself\u001b[39m, method\u001b[38;5;241m=\u001b[39m\u001b[38;5;124m\"\u001b[39m\u001b[38;5;124mmap\u001b[39m\u001b[38;5;124m\"\u001b[39m\n\u001b[0;32m   4694\u001b[0m     )\n",
      "File \u001b[1;32mc:\\Users\\esteb\\anaconda3\\anaconda\\envs\\My_proyect\\lib\\site-packages\\pandas\\core\\base.py:921\u001b[0m, in \u001b[0;36mIndexOpsMixin._map_values\u001b[1;34m(self, mapper, na_action, convert)\u001b[0m\n\u001b[0;32m    918\u001b[0m \u001b[38;5;28;01mif\u001b[39;00m \u001b[38;5;28misinstance\u001b[39m(arr, ExtensionArray):\n\u001b[0;32m    919\u001b[0m     \u001b[38;5;28;01mreturn\u001b[39;00m arr\u001b[38;5;241m.\u001b[39mmap(mapper, na_action\u001b[38;5;241m=\u001b[39mna_action)\n\u001b[1;32m--> 921\u001b[0m \u001b[38;5;28;01mreturn\u001b[39;00m \u001b[43malgorithms\u001b[49m\u001b[38;5;241;43m.\u001b[39;49m\u001b[43mmap_array\u001b[49m\u001b[43m(\u001b[49m\u001b[43marr\u001b[49m\u001b[43m,\u001b[49m\u001b[43m \u001b[49m\u001b[43mmapper\u001b[49m\u001b[43m,\u001b[49m\u001b[43m \u001b[49m\u001b[43mna_action\u001b[49m\u001b[38;5;241;43m=\u001b[39;49m\u001b[43mna_action\u001b[49m\u001b[43m,\u001b[49m\u001b[43m \u001b[49m\u001b[43mconvert\u001b[49m\u001b[38;5;241;43m=\u001b[39;49m\u001b[43mconvert\u001b[49m\u001b[43m)\u001b[49m\n",
      "File \u001b[1;32mc:\\Users\\esteb\\anaconda3\\anaconda\\envs\\My_proyect\\lib\\site-packages\\pandas\\core\\algorithms.py:1743\u001b[0m, in \u001b[0;36mmap_array\u001b[1;34m(arr, mapper, na_action, convert)\u001b[0m\n\u001b[0;32m   1741\u001b[0m values \u001b[38;5;241m=\u001b[39m arr\u001b[38;5;241m.\u001b[39mastype(\u001b[38;5;28mobject\u001b[39m, copy\u001b[38;5;241m=\u001b[39m\u001b[38;5;28;01mFalse\u001b[39;00m)\n\u001b[0;32m   1742\u001b[0m \u001b[38;5;28;01mif\u001b[39;00m na_action \u001b[38;5;129;01mis\u001b[39;00m \u001b[38;5;28;01mNone\u001b[39;00m:\n\u001b[1;32m-> 1743\u001b[0m     \u001b[38;5;28;01mreturn\u001b[39;00m \u001b[43mlib\u001b[49m\u001b[38;5;241;43m.\u001b[39;49m\u001b[43mmap_infer\u001b[49m\u001b[43m(\u001b[49m\u001b[43mvalues\u001b[49m\u001b[43m,\u001b[49m\u001b[43m \u001b[49m\u001b[43mmapper\u001b[49m\u001b[43m,\u001b[49m\u001b[43m \u001b[49m\u001b[43mconvert\u001b[49m\u001b[38;5;241;43m=\u001b[39;49m\u001b[43mconvert\u001b[49m\u001b[43m)\u001b[49m\n\u001b[0;32m   1744\u001b[0m \u001b[38;5;28;01melse\u001b[39;00m:\n\u001b[0;32m   1745\u001b[0m     \u001b[38;5;28;01mreturn\u001b[39;00m lib\u001b[38;5;241m.\u001b[39mmap_infer_mask(\n\u001b[0;32m   1746\u001b[0m         values, mapper, mask\u001b[38;5;241m=\u001b[39misna(values)\u001b[38;5;241m.\u001b[39mview(np\u001b[38;5;241m.\u001b[39muint8), convert\u001b[38;5;241m=\u001b[39mconvert\n\u001b[0;32m   1747\u001b[0m     )\n",
      "File \u001b[1;32mlib.pyx:2972\u001b[0m, in \u001b[0;36mpandas._libs.lib.map_infer\u001b[1;34m()\u001b[0m\n",
      "Cell \u001b[1;32mIn[22], line 1\u001b[0m, in \u001b[0;36m<lambda>\u001b[1;34m(x)\u001b[0m\n\u001b[1;32m----> 1\u001b[0m df[\u001b[38;5;124m\"\u001b[39m\u001b[38;5;124mANCHO DE BANDA CONTRATADO 2014\u001b[39m\u001b[38;5;124m\"\u001b[39m] \u001b[38;5;241m=\u001b[39m df[\u001b[38;5;124m\"\u001b[39m\u001b[38;5;124mANCHO DE BANDA CONTRATADO 2014\u001b[39m\u001b[38;5;124m\"\u001b[39m]\u001b[38;5;241m.\u001b[39mmap(\u001b[38;5;28;01mlambda\u001b[39;00m x : \u001b[43mx\u001b[49m\u001b[38;5;241;43m.\u001b[39;49m\u001b[43msplit\u001b[49m(\u001b[38;5;124m\"\u001b[39m\u001b[38;5;124m \u001b[39m\u001b[38;5;124m\"\u001b[39m)[\u001b[38;5;241m0\u001b[39m])\n\u001b[0;32m      2\u001b[0m df[\u001b[38;5;124m\"\u001b[39m\u001b[38;5;124mANCHO DE BANDA CONTRATADO 2014\u001b[39m\u001b[38;5;124m\"\u001b[39m]\n",
      "\u001b[1;31mAttributeError\u001b[0m: 'function' object has no attribute 'split'"
     ]
    }
   ],
   "source": [
    "df[\"ANCHO DE BANDA CONTRATADO 2014\"] = df[\"ANCHO DE BANDA CONTRATADO 2014\"].map(lambda x : x.split(\" \")[0])\n",
    "df[\"ANCHO DE BANDA CONTRATADO 2014\"]"
   ]
  }
 ],
 "metadata": {
  "kernelspec": {
   "display_name": "DataClass",
   "language": "python",
   "name": "python3"
  },
  "language_info": {
   "codemirror_mode": {
    "name": "ipython",
    "version": 3
   },
   "file_extension": ".py",
   "mimetype": "text/x-python",
   "name": "python",
   "nbconvert_exporter": "python",
   "pygments_lexer": "ipython3",
   "version": "3.10.13"
  }
 },
 "nbformat": 4,
 "nbformat_minor": 2
}
